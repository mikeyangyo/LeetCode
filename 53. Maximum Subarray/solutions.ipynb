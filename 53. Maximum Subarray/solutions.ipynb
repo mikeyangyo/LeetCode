{
 "cells": [
  {
   "cell_type": "code",
   "execution_count": 5,
   "metadata": {},
   "outputs": [],
   "source": [
    "class Solution:\n",
    "    def maxSubArray(self, nums):\n",
    "        #return self.maxSubArray_mySolution(nums, 0, len(nums) - 1)\n",
    "        return self.maxSubArray_Kadane(nums)\n",
    "    \n",
    "    def maxSubArray_mySolution(self, nums, head, tail):\n",
    "        # Divide and Conquer\n",
    "        if head == tail:\n",
    "            return nums[head]\n",
    "        \n",
    "        mid = int((head + tail) / 2)\n",
    "        \n",
    "        leftSum = self.maxSubArray_mySolution(nums, head, mid)\n",
    "        rightSum = self.maxSubArray_mySolution(nums, mid + 1, tail)\n",
    "        crossSum = self.findCrossSum(nums, head, mid, tail)\n",
    "        \n",
    "        return max([leftSum, rightSum, crossSum])\n",
    "    \n",
    "    def findCrossSum(self, nums, head, mid, tail):\n",
    "        tmpSumL = -(2 ** 31)\n",
    "        tmpSum = 0\n",
    "        for i in range(mid, head - 1, -1):\n",
    "            tmpSum += nums[i]\n",
    "            if tmpSum > tmpSumL:\n",
    "                tmpSumL = tmpSum\n",
    "        \n",
    "        tmpSumR = -(2 ** 31)\n",
    "        tmpSum = 0\n",
    "        for i in range(mid + 1, tail + 1):\n",
    "            tmpSum += nums[i]\n",
    "            if tmpSum > tmpSumR:\n",
    "                tmpSumR = tmpSum\n",
    "        return tmpSumL + tmpSumR\n",
    "    \n",
    "    def maxSubArray_Kadane(self, nums):\n",
    "        curSum = self.Detect(nums)\n",
    "        if (curSum < 0):\n",
    "            return curSum\n",
    "        maxSum = nums[0]\n",
    "        for i in nums:\n",
    "            curSum += i\n",
    "            curSum = max(0, curSum)\n",
    "            maxSum = max(curSum, maxSum)\n",
    "        return maxSum\n",
    "    \n",
    "    def Detect(self, nums):\n",
    "        maxNumber = nums[0]\n",
    "        for i in nums:\n",
    "            if (i >= 0):\n",
    "                return 0\n",
    "            maxNumber = max(i, maxNumber)\n",
    "        return maxNumber"
   ]
  }
 ],
 "metadata": {
  "kernelspec": {
   "display_name": "Python 3",
   "language": "python",
   "name": "python3"
  },
  "language_info": {
   "codemirror_mode": {
    "name": "ipython",
    "version": 3
   },
   "file_extension": ".py",
   "mimetype": "text/x-python",
   "name": "python",
   "nbconvert_exporter": "python",
   "pygments_lexer": "ipython3",
   "version": "3.6.5"
  }
 },
 "nbformat": 4,
 "nbformat_minor": 2
}
