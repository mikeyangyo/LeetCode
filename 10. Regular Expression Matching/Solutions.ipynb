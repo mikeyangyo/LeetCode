{
 "cells": [
  {
   "cell_type": "code",
   "execution_count": null,
   "metadata": {},
   "outputs": [],
   "source": [
    "class Solution:\n",
    "    def isMatch(self, s, p):\n",
    "        return self.isMatch_DP(s, p)\n",
    "    \n",
    "    def isMatch_DP(self, s, p):\n",
    "        lenS, lenP = len(s), len(p)\n",
    "        dp = [[False for i in range(lenP + 1)] for j in range(lenS + 1)]\n",
    "        \n",
    "        dp[0][0] = True\n",
    "        # p[0.., i - 3, i - 2, i - 1] matches empty iff p[i - 1] is '*' and p[0..i - 3] matches empty\n",
    "        for i in range(1, lenP + 1):\n",
    "            dp[0][i] = i > 1 and '*' == p[i - 1] and dp[0][i - 2];\n",
    "\n",
    "        for i in range(1, lenS + 1):\n",
    "            for j in range(1, lenP + 1):\n",
    "                if p[j - 1] != '*':\n",
    "                    dp[i][j] = dp[i - 1][j - 1] and (s[i - 1] == p[j - 1] or '.' == p[j - 1])\n",
    "                else:\n",
    "                    # p[0] cannot be '*' so no need to check \"j > 1\" here\n",
    "                    dp[i][j] = dp[i][j - 2] or (s[i - 1] == p[j - 2] or '.' == p[j - 2]) and dp[i - 1][j]\n",
    "\n",
    "        return dp[lenS][lenP]"
   ]
  }
 ],
 "metadata": {
  "kernelspec": {
   "display_name": "Python 3",
   "language": "python",
   "name": "python3"
  },
  "language_info": {
   "codemirror_mode": {
    "name": "ipython",
    "version": 3
   },
   "file_extension": ".py",
   "mimetype": "text/x-python",
   "name": "python",
   "nbconvert_exporter": "python",
   "pygments_lexer": "ipython3",
   "version": "3.6.5"
  }
 },
 "nbformat": 4,
 "nbformat_minor": 2
}
