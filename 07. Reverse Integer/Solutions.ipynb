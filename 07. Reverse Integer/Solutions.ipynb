{
 "cells": [
  {
   "cell_type": "code",
   "execution_count": null,
   "metadata": {},
   "outputs": [],
   "source": [
    "class Solution:\n",
    "    def reverse(self, x):\n",
    "        return self.reverse_popAndPushAndCheck(x)\n",
    "    \n",
    "    def reverse_mySolution(self, x):\n",
    "        flag = 0\n",
    "        if x == 0:\n",
    "            return 0\n",
    "        result = \"\"\n",
    "        if x < 0:\n",
    "            result += \"-\"\n",
    "            x = abs(x)\n",
    "        while x > 0:\n",
    "            digit = x % 10\n",
    "            if digit != 0:\n",
    "                result += str(digit)\n",
    "                flag = 1\n",
    "            elif flag:\n",
    "                result += str(digit)\n",
    "            x = int(x / 10)\n",
    "        return int(result) if int(result) < 2**31-1 and int(result) > -(2**31) else 0\n",
    "    \n",
    "    def reverse_popAndPushAndCheck(self, x):\n",
    "        rev = 0\n",
    "        while x != 0:\n",
    "            if x > 0:\n",
    "                pop = x % 10\n",
    "            if x < 0:\n",
    "                pop = -(abs(x) % 10)\n",
    "            x = int(x / 10)\n",
    "            max_int = 2147483647\n",
    "            min_int = -2147483647\n",
    "            if rev > int(max_int / 10) or (rev == int(max_int / 10) and pop > 7):\n",
    "                return 0\n",
    "            if rev < int(min_int / 10) or (rev == int(min_int / 10) and pop < -8):\n",
    "                return 0\n",
    "            rev = rev * 10 + pop\n",
    "        return rev"
   ]
  }
 ],
 "metadata": {
  "kernelspec": {
   "display_name": "Python 3",
   "language": "python",
   "name": "python3"
  },
  "language_info": {
   "codemirror_mode": {
    "name": "ipython",
    "version": 3
   },
   "file_extension": ".py",
   "mimetype": "text/x-python",
   "name": "python",
   "nbconvert_exporter": "python",
   "pygments_lexer": "ipython3",
   "version": "3.6.5"
  }
 },
 "nbformat": 4,
 "nbformat_minor": 2
}
