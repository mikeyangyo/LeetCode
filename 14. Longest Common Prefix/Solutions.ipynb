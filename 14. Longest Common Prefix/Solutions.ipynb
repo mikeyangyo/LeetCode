{
 "cells": [
  {
   "cell_type": "code",
   "execution_count": 1,
   "metadata": {},
   "outputs": [],
   "source": [
    "class Solution:\n",
    "    def longestCommonPrefix(self, strs):\n",
    "        return self.longestCommonPrefix_mySolution(strs)\n",
    "    \n",
    "    def longestCommonPrefix_mySolution(self, strs):\n",
    "        if len(strs) is 0:\n",
    "            return \"\"\n",
    "        result = \"\"\n",
    "        minLength = min([len(strs[i]) for i in range(len(strs))])\n",
    "        for i in range(minLength):\n",
    "            if isSame([strs[j][i] for j in range(len(strs))]):\n",
    "                result += strs[0][i]\n",
    "            else:\n",
    "                return result\n",
    "        return result\n",
    "    def longestCommonPrefix_divideAndConquer(self, strs):\n",
    "        if len(strs) is 0 or strs is None:\n",
    "            return \"\";    \n",
    "        return longestCommonPrefix(strs, 0 , len(strs) - 1)"
   ]
  },
  {
   "cell_type": "code",
   "execution_count": 2,
   "metadata": {},
   "outputs": [],
   "source": [
    "def isSame(list1):\n",
    "    for i in range(len(list1) - 1):\n",
    "        if list1[i] != list1[i + 1]:\n",
    "            return False\n",
    "    return True\n",
    "\n",
    "def longestCommonPrefix(strs, l, r):\n",
    "    if l is r:\n",
    "        return strs[l]\n",
    "    else:\n",
    "        mid = int((l + r) / 2)\n",
    "        lcpLeft = longestCommonPrefix(strs, l , mid)\n",
    "        lcpRight = longestCommonPrefix(strs, mid + 1, r)\n",
    "        return commonPrefix(lcpLeft, lcpRight)\n",
    "\n",
    "def  commonPrefixcommonP (left, right):\n",
    "    minimun = min(len(left), len(right))\n",
    "    for i in range(minimun):\n",
    "        if left[i] is not right[i]:\n",
    "            return left[0:i]\n",
    "    return left[0:minimun]"
   ]
  }
 ],
 "metadata": {
  "kernelspec": {
   "display_name": "Python 3",
   "language": "python",
   "name": "python3"
  },
  "language_info": {
   "codemirror_mode": {
    "name": "ipython",
    "version": 3
   },
   "file_extension": ".py",
   "mimetype": "text/x-python",
   "name": "python",
   "nbconvert_exporter": "python",
   "pygments_lexer": "ipython3",
   "version": "3.6.5"
  }
 },
 "nbformat": 4,
 "nbformat_minor": 2
}
