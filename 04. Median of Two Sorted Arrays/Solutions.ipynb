{
 "cells": [
  {
   "cell_type": "code",
   "execution_count": null,
   "metadata": {},
   "outputs": [],
   "source": [
    "class Solution:\n",
    "    def findMedianSortedArrays(self, nums1, nums2):\n",
    "        return self.findMedianSortedArrays_recusive(nums1, nums2)\n",
    "    \n",
    "    def findMedianSortedArrays_mySolution(self, nums1, nums2):\n",
    "        allList = sorted(nums1 + nums2)\n",
    "        if len(allList) % 2 == 0:\n",
    "            return (allList[int(len(allList) / 2)] + allList[int(len(allList) / 2) - 1]) / 2\n",
    "        else:\n",
    "            return allList[int(len(allList) / 2)]\n",
    "        \n",
    "    def findMedianSortedArrays_recusive(self, nums1, nums2):\n",
    "        m, n = len(nums1), len(nums2)\n",
    "        if m > n:\n",
    "            nums1, nums2, m, n = nums2, nums1, n, m\n",
    "        if n == 0:\n",
    "            raise ValueError\n",
    "        \n",
    "        imin, imax, half_len = 0, m, int((m + n + 1) / 2)\n",
    "        while imin <= imax:\n",
    "            i = int((imax + imin) / 2)\n",
    "            j = half_len - i\n",
    "            if i < m and nums2[j - 1] > nums1[i]:\n",
    "                imin = i + 1\n",
    "            elif i > 0 and nums1[i - 1] > nums2[j]:\n",
    "                imax = i - 1\n",
    "            else:\n",
    "                if i == 0:\n",
    "                    max_of_left = nums2[j - 1]\n",
    "                elif j == 0:\n",
    "                    max_of_left = nums1[i - 1]\n",
    "                else:\n",
    "                    max_of_left = max(nums1[i - 1], nums2[j - 1])\n",
    "                if (m + n) %2 == 1:\n",
    "                    return max_of_left\n",
    "                \n",
    "                if i == m:\n",
    "                    min_of_right = nums2[j]\n",
    "                elif j == n:\n",
    "                    min_of_right = nums1[i]\n",
    "                else:\n",
    "                    min_of_right = min(nums1[i], nums2[j])\n",
    "                    \n",
    "                return (max_of_left + min_of_right) / 2.0"
   ]
  }
 ],
 "metadata": {
  "kernelspec": {
   "display_name": "Python 3",
   "language": "python",
   "name": "python3"
  },
  "language_info": {
   "codemirror_mode": {
    "name": "ipython",
    "version": 3
   },
   "file_extension": ".py",
   "mimetype": "text/x-python",
   "name": "python",
   "nbconvert_exporter": "python",
   "pygments_lexer": "ipython3",
   "version": "3.6.5"
  }
 },
 "nbformat": 4,
 "nbformat_minor": 2
}
