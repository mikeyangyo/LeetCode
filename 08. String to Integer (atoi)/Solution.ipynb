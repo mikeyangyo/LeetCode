{
 "cells": [
  {
   "cell_type": "code",
   "execution_count": null,
   "metadata": {},
   "outputs": [],
   "source": [
    "class Solution:\n",
    "    def myAtoi(self, string):\n",
    "        result = 0\n",
    "        posOrNeg = 0 # 0 -> p, 1 -> n\n",
    "        flag = 1\n",
    "        for i in range(0, len(string)):\n",
    "            if flag and (string[i] == '+' or string[i] == '-' or string[i] == ' '):\n",
    "                if string[i] == '+':\n",
    "                    posOrNeg = 0\n",
    "                    flag = 0\n",
    "                elif string[i] == '-':\n",
    "                    posOrNeg = 1\n",
    "                    flag = 0\n",
    "            elif string[i] <= '9' and string[i] >= '0':\n",
    "                result = result * 10 + int(string[i])\n",
    "                flag = 0\n",
    "            else:\n",
    "                break\n",
    "        \n",
    "        maxInt = 2 ** 31 - 1\n",
    "        minInt = -(2 ** 31)\n",
    "        if posOrNeg:\n",
    "            result *= -1\n",
    "        if result < maxInt and result > minInt:\n",
    "            return result\n",
    "        elif result >= maxInt:\n",
    "            return maxInt\n",
    "        else:\n",
    "            return minInt"
   ]
  }
 ],
 "metadata": {
  "kernelspec": {
   "display_name": "Python 3",
   "language": "python",
   "name": "python3"
  },
  "language_info": {
   "codemirror_mode": {
    "name": "ipython",
    "version": 3
   },
   "file_extension": ".py",
   "mimetype": "text/x-python",
   "name": "python",
   "nbconvert_exporter": "python",
   "pygments_lexer": "ipython3",
   "version": "3.6.5"
  }
 },
 "nbformat": 4,
 "nbformat_minor": 2
}
