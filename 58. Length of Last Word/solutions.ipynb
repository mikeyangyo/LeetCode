{
 "cells": [
  {
   "cell_type": "code",
   "execution_count": 14,
   "metadata": {},
   "outputs": [],
   "source": [
    "class Solution:\n",
    "    def lengthOfLastWord(self, s: str) -> int:\n",
    "        return self.best_solution(s)\n",
    "    def best_sol(self, s: str) -> int:\n",
    "        rlt = s.split()\n",
    "        return 0 if not rlt else len(rlt[-1])\n",
    "    def my_sol(self, s: str) -> int:\n",
    "        sub_str = [i for i in s.split(' ') if i]\n",
    "        if not sub_str:\n",
    "            return 0\n",
    "        return len(sub_str[-1])"
   ]
  }
 ],
 "metadata": {
  "kernelspec": {
   "display_name": "Python 3",
   "language": "python",
   "name": "python3"
  },
  "language_info": {
   "codemirror_mode": {
    "name": "ipython",
    "version": 3
   },
   "file_extension": ".py",
   "mimetype": "text/x-python",
   "name": "python",
   "nbconvert_exporter": "python",
   "pygments_lexer": "ipython3",
   "version": "3.7.2"
  }
 },
 "nbformat": 4,
 "nbformat_minor": 2
}
