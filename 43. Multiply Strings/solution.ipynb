{
 "cells": [
  {
   "cell_type": "code",
   "execution_count": 15,
   "metadata": {},
   "outputs": [],
   "source": [
    "class Solution:\n",
    "    def multiply(self, num1, num2):\n",
    "        return self.multiply_mySolution(num1, num2)\n",
    "    \n",
    "    def multiply_mySolution(self, num1, num2):\n",
    "        result = 0\n",
    "        for i in range(len(num1)):\n",
    "            carryBits = 0\n",
    "            tmp = 0\n",
    "            for j in range(len(num2)):\n",
    "                curBit = int(num2[i])\n",
    "                MultiplicandBit = int(num1[j])\n",
    "                productBit = (curBit * MultiplicandBit) % 10 + carryBits\n",
    "                tmp = tmp + (10 ** j) * productBit\n",
    "                carryBits = int((curBit * MultiplicandBit) / 10)\n",
    "            tmp = tmp + (10 ** len(num2)) * carryBits\n",
    "            result += tmp * (10 ** i)\n",
    "        return self.int2str(result)\n",
    "    \n",
    "    def int2str(self, integer):\n",
    "        result = \"\"\n",
    "        while integer > 0:\n",
    "            result = str(integer % 10) + result\n",
    "            integer = int(integer / 10)\n",
    "        return result"
   ]
  },
  {
   "cell_type": "code",
   "execution_count": 16,
   "metadata": {},
   "outputs": [
    {
     "data": {
      "text/plain": [
       "'209934'"
      ]
     },
     "execution_count": 16,
     "metadata": {},
     "output_type": "execute_result"
    }
   ],
   "source": [
    "Solution().multiply(\"123\", \"456\")"
   ]
  },
  {
   "cell_type": "code",
   "execution_count": 7,
   "metadata": {},
   "outputs": [
    {
     "ename": "TypeError",
     "evalue": "unsupported operand type(s) for +: 'int' and 'str'",
     "output_type": "error",
     "traceback": [
      "\u001b[1;31m---------------------------------------------------------------------------\u001b[0m",
      "\u001b[1;31mTypeError\u001b[0m                                 Traceback (most recent call last)",
      "\u001b[1;32m<ipython-input-7-fde2ff6f6df0>\u001b[0m in \u001b[0;36m<module>\u001b[1;34m()\u001b[0m\n\u001b[1;32m----> 1\u001b[1;33m \u001b[1;36m1\u001b[0m \u001b[1;33m+\u001b[0m \u001b[1;34m'0'\u001b[0m\u001b[1;33m\u001b[0m\u001b[0m\n\u001b[0m",
      "\u001b[1;31mTypeError\u001b[0m: unsupported operand type(s) for +: 'int' and 'str'"
     ]
    }
   ],
   "source": []
  },
  {
   "cell_type": "code",
   "execution_count": null,
   "metadata": {},
   "outputs": [],
   "source": []
  }
 ],
 "metadata": {
  "kernelspec": {
   "display_name": "Python 3",
   "language": "python",
   "name": "python3"
  },
  "language_info": {
   "codemirror_mode": {
    "name": "ipython",
    "version": 3
   },
   "file_extension": ".py",
   "mimetype": "text/x-python",
   "name": "python",
   "nbconvert_exporter": "python",
   "pygments_lexer": "ipython3",
   "version": "3.6.5"
  }
 },
 "nbformat": 4,
 "nbformat_minor": 2
}
