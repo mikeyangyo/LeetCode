{
 "cells": [
  {
   "cell_type": "code",
   "execution_count": 31,
   "metadata": {},
   "outputs": [],
   "source": [
    "class Solution:\n",
    "    def multiply(self, num1, num2):\n",
    "        return self.multiply_mySolution(num1, num2)\n",
    "    \n",
    "    def multiply_mySolution(self, num1, num2):\n",
    "        if len(num1) > len(num2):\n",
    "            num1, num2 = num2, num1\n",
    "        result = 0\n",
    "        for i in range(len(num1) - 1, -1, -1):\n",
    "            carryBits = 0\n",
    "            tmp = 0\n",
    "            for j in range(len(num2) - 1, -1, -1):\n",
    "                curBit = int(num1[i])\n",
    "                MultiplicandBit = int(num2[j])\n",
    "                productBit = (curBit * MultiplicandBit) % 10 + carryBits\n",
    "                tmp = tmp + (10 ** (len(num2) - 1 - j)) * productBit\n",
    "                carryBits = int((curBit * MultiplicandBit) / 10)\n",
    "            tmp = tmp + (10 ** len(num2)) * carryBits\n",
    "            result += tmp * (10 ** (len(num1) - 1 - i))\n",
    "        return str(result)"
   ]
  }
 ],
 "metadata": {
  "kernelspec": {
   "display_name": "Python 3",
   "language": "python",
   "name": "python3"
  },
  "language_info": {
   "codemirror_mode": {
    "name": "ipython",
    "version": 3
   },
   "file_extension": ".py",
   "mimetype": "text/x-python",
   "name": "python",
   "nbconvert_exporter": "python",
   "pygments_lexer": "ipython3",
   "version": "3.6.5"
  }
 },
 "nbformat": 4,
 "nbformat_minor": 2
}
