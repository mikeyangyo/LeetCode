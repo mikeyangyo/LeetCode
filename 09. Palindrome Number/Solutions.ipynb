{
 "cells": [
  {
   "cell_type": "code",
   "execution_count": null,
   "metadata": {},
   "outputs": [],
   "source": [
    "class Solution:\n",
    "    def isPalindrome(self, x):\n",
    "        return self.isPalindrome_mySolution(x)\n",
    "    \n",
    "    def isPalindrome_mySolution(self, x):\n",
    "        if x < 0 or x % 10 == 0 and x != 0:\n",
    "            return False\n",
    "        if x < 10:\n",
    "            return True\n",
    "        result = str(x)\n",
    "        if str(x) == result[::-1]:\n",
    "            return True\n",
    "        return False\n",
    "    \n",
    "    def isPalindrome_revertHalfOfTheNumber(self, x):\n",
    "        # Special cases:\n",
    "        # As discussed above, when x < 0, x is not a palindrome.\n",
    "        # Also if the last digit of the number is 0, in order to be a palindrome,\n",
    "        # the first digit of the number also needs to be 0.\n",
    "        # Only 0 satisfy this property.\n",
    "        if x < 0 or x % 10 == 0 and x != 0:\n",
    "            return False\n",
    "\n",
    "        revertedNumber = 0\n",
    "        while x > revertedNumber:\n",
    "            revertedNumber = revertedNumber * 10 + x % 10\n",
    "            x = int(x / 10)\n",
    "\n",
    "        # When the length is an odd number, we can get rid of the middle digit by revertedNumber/10\n",
    "        # For example when the input is 12321, at the end of the while loop we get x = 12, revertedNumber = 123,\n",
    "        # since the middle digit doesn't matter in palidrome(it will always equal to itself), we can simply get rid of it.\n",
    "        return x == revertedNumber or x == int(revertedNumber / 10)"
   ]
  }
 ],
 "metadata": {
  "kernelspec": {
   "display_name": "Python 3",
   "language": "python",
   "name": "python3"
  },
  "language_info": {
   "codemirror_mode": {
    "name": "ipython",
    "version": 3
   },
   "file_extension": ".py",
   "mimetype": "text/x-python",
   "name": "python",
   "nbconvert_exporter": "python",
   "pygments_lexer": "ipython3",
   "version": "3.6.5"
  }
 },
 "nbformat": 4,
 "nbformat_minor": 2
}
