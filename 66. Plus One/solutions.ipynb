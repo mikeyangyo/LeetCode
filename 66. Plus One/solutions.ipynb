{
 "cells": [
  {
   "cell_type": "code",
   "execution_count": 21,
   "metadata": {},
   "outputs": [],
   "source": [
    "class Solution:\n",
    "    def plusOne(self, digits: list) -> list:\n",
    "        return self.best_sol(digits)\n",
    "    def best_sol(self, digits:list)->list:\n",
    "        s = \"\"\n",
    "        for i in digits:\n",
    "            s = s + str(i)\n",
    "        return [int(i) for i in str(int(s) + 1)]\n",
    "    def my_sol(self, digits: list) -> list:\n",
    "        return [int(i) for i in str(int(''.join([str(i) for i in digits]))+1)]"
   ]
  }
 ],
 "metadata": {
  "kernelspec": {
   "display_name": "Python 3",
   "language": "python",
   "name": "python3"
  },
  "language_info": {
   "codemirror_mode": {
    "name": "ipython",
    "version": 3
   },
   "file_extension": ".py",
   "mimetype": "text/x-python",
   "name": "python",
   "nbconvert_exporter": "python",
   "pygments_lexer": "ipython3",
   "version": "3.7.2"
  }
 },
 "nbformat": 4,
 "nbformat_minor": 2
}
