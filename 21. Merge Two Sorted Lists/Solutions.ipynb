{
 "cells": [
  {
   "cell_type": "code",
   "execution_count": null,
   "metadata": {},
   "outputs": [],
   "source": [
    "class Solution:\n",
    "    def mergeTwoLists(self, l1, l2):\n",
    "        dummy = ListNode(0)\n",
    "        result = dummy\n",
    "        while l1 != None and l2 != None:\n",
    "            element = None\n",
    "            if l1.val <= l2.val:\n",
    "                element = ListNode(l1.val)\n",
    "                l1 = l1.next\n",
    "            else:\n",
    "                element = ListNode(l2.val)\n",
    "                l2 = l2.next\n",
    "            result.next = element\n",
    "            result = result.next\n",
    "        if l1 != None:\n",
    "            result.next = l1\n",
    "        if l2 != None:\n",
    "            result.next = l2\n",
    "        return dummy.next"
   ]
  }
 ],
 "metadata": {
  "kernelspec": {
   "display_name": "Python 3",
   "language": "python",
   "name": "python3"
  },
  "language_info": {
   "codemirror_mode": {
    "name": "ipython",
    "version": 3
   },
   "file_extension": ".py",
   "mimetype": "text/x-python",
   "name": "python",
   "nbconvert_exporter": "python",
   "pygments_lexer": "ipython3",
   "version": "3.6.5"
  }
 },
 "nbformat": 4,
 "nbformat_minor": 2
}
