{
 "cells": [
  {
   "cell_type": "code",
   "execution_count": 73,
   "metadata": {},
   "outputs": [],
   "source": [
    "class Solution:\n",
    "    def __init__(self):\n",
    "        pass\n",
    "    \n",
    "    def letterCombinations(self, digits):\n",
    "        return self.letterCombinations_mySolution(0, digits)\n",
    "        \n",
    "    def letterCombinations_mySolution(self, i, digits):\n",
    "        if digits == '':\n",
    "            return []\n",
    "        if len(digits) == 1:\n",
    "            return [c for c in digit[digits]]\n",
    "        \n",
    "        nowResult = self.letterCombinations_mySolution(i + 1, digits[1:])\n",
    "        \n",
    "        if digits[0] != '1':\n",
    "            return [digit[digits[0]][int(j / len(nowResult))] + nowResult[j % len(nowResult)]for j in range(len(nowResult) * len(digit[digits[0]]))] # j 0~26\n",
    "        return nowResult"
   ]
  },
  {
   "cell_type": "code",
   "execution_count": 74,
   "metadata": {},
   "outputs": [],
   "source": [
    "digit = {\n",
    "    '1':'',\n",
    "    '2':'abc',\n",
    "    '3':'def',\n",
    "    '4':'ghi',\n",
    "    '5':'jkl',\n",
    "    '6':'mno',\n",
    "    '7':'pqrs',\n",
    "    '8':'tuv',\n",
    "    '9':'wxyz'\n",
    "}"
   ]
  }
 ],
 "metadata": {
  "kernelspec": {
   "display_name": "Python 3",
   "language": "python",
   "name": "python3"
  },
  "language_info": {
   "codemirror_mode": {
    "name": "ipython",
    "version": 3
   },
   "file_extension": ".py",
   "mimetype": "text/x-python",
   "name": "python",
   "nbconvert_exporter": "python",
   "pygments_lexer": "ipython3",
   "version": "3.6.5"
  }
 },
 "nbformat": 4,
 "nbformat_minor": 2
}
