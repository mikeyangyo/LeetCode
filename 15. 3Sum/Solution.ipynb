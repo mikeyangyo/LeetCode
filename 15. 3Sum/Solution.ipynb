{
 "cells": [
  {
   "cell_type": "code",
   "execution_count": null,
   "metadata": {},
   "outputs": [],
   "source": [
    "class Solution:\n",
    "    result = []\n",
    "    \n",
    "    def threeSum(self, nums):\n",
    "        self.result = []\n",
    "        if (nums is None or len(nums) < 3):\n",
    "            return self.result\n",
    "        \n",
    "        nums = sorted(nums);\n",
    "        \n",
    "        length = len(nums)\n",
    "        for i in range(length-2):\n",
    "            if (i > 0 and nums[i] == nums[i-1]):\n",
    "                continue\n",
    "            self.find(nums, i+1, length-1, nums[i])\n",
    "        \n",
    "        return self.result\n",
    "    \n",
    "    def find(self, num, begin, end, target):\n",
    "        l, r = begin, end\n",
    "        while l < r:\n",
    "            if num[l] + num[r] + target == 0:\n",
    "                ans = []\n",
    "                ans.append(target)\n",
    "                ans.append(num[l])\n",
    "                ans.append(num[r])\n",
    "                self.result.append(ans)\n",
    "                while l < r and num[l] == num[l+1]:\n",
    "                    l += 1\n",
    "                while l < r and num[r] == num[r-1]:\n",
    "                    r -= 1\n",
    "                l += 1\n",
    "                r -= 1\n",
    "            elif num[l] + num[r] + target < 0:\n",
    "                l += 1\n",
    "            else:\n",
    "                r -= 1"
   ]
  }
 ],
 "metadata": {
  "kernelspec": {
   "display_name": "Python 3",
   "language": "python",
   "name": "python3"
  },
  "language_info": {
   "codemirror_mode": {
    "name": "ipython",
    "version": 3
   },
   "file_extension": ".py",
   "mimetype": "text/x-python",
   "name": "python",
   "nbconvert_exporter": "python",
   "pygments_lexer": "ipython3",
   "version": "3.6.5"
  }
 },
 "nbformat": 4,
 "nbformat_minor": 2
}
