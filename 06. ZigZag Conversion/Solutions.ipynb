{
 "cells": [
  {
   "cell_type": "code",
   "execution_count": null,
   "metadata": {},
   "outputs": [],
   "source": [
    "class Solution:\n",
    "    def convert(self, s, numRows):\n",
    "        return self.convert_sortByRow(s, numRows)\n",
    "    \n",
    "    def convert_mySolution(self, s, numRows):\n",
    "        if numRows == 1:\n",
    "            return s\n",
    "\n",
    "        ret = \"\"\n",
    "        n = len(s)\n",
    "        cycleLen = 2 * numRows - 2\n",
    "\n",
    "        for i in range(numRows): # selected row\n",
    "            j = 0\n",
    "            while j + i < n: # find element at each cycle\n",
    "                ret += s[j + i]\n",
    "                if i != 0 and i != numRows - 1 and j + cycleLen - i < n: # isn't at first and last row\n",
    "                    ret += s[j + cycleLen - i]\n",
    "                j += cycleLen\n",
    "                \n",
    "        return ret\n",
    "    \n",
    "    def convert_sortByRow(self, s, numRows):\n",
    "        if numRows == 1:\n",
    "            return s;\n",
    "\n",
    "        rows = ['' for i in range(min(numRows, len(s)))] # every string represent a row\n",
    "        curRow = 0\n",
    "        goingDown = False\n",
    "\n",
    "        for c in s:\n",
    "            rows[curRow] += c;\n",
    "            if curRow == 0 or curRow == numRows - 1: #turn around if we get to first row or head row\n",
    "                goingDown = not goingDown\n",
    "            curRow += 1 if goingDown else -1 # go throught all row according goingDown variable\n",
    "\n",
    "        ret = \"\"\n",
    "        for row in rows:\n",
    "            ret += row\n",
    "        return ret"
   ]
  }
 ],
 "metadata": {
  "kernelspec": {
   "display_name": "Python 3",
   "language": "python",
   "name": "python3"
  },
  "language_info": {
   "codemirror_mode": {
    "name": "ipython",
    "version": 3
   },
   "file_extension": ".py",
   "mimetype": "text/x-python",
   "name": "python",
   "nbconvert_exporter": "python",
   "pygments_lexer": "ipython3",
   "version": "3.6.5"
  }
 },
 "nbformat": 4,
 "nbformat_minor": 2
}
