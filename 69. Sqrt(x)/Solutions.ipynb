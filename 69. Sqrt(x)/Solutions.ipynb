{
 "cells": [
  {
   "cell_type": "code",
   "execution_count": 6,
   "metadata": {},
   "outputs": [],
   "source": [
    "class Solution:\n",
    "    def mySqrt(self, x: int) -> int:\n",
    "        return self.my_sol(x)\n",
    "    def my_sol(self, x: int) -> int:\n",
    "        return int(x**(0.5))\n",
    "    def binary_search(self, x: int) -> int:\n",
    "        l, r = 0, x\n",
    "        while l <= r:\n",
    "            mid = l + (r-l)//2\n",
    "            if mid * mid <= x < (mid+1)*(mid+1):\n",
    "                return mid\n",
    "            elif x < mid * mid:\n",
    "                r = mid\n",
    "            else:\n",
    "                l = mid + 1"
   ]
  }
 ],
 "metadata": {
  "kernelspec": {
   "display_name": "Python 3",
   "language": "python",
   "name": "python3"
  },
  "language_info": {
   "codemirror_mode": {
    "name": "ipython",
    "version": 3
   },
   "file_extension": ".py",
   "mimetype": "text/x-python",
   "name": "python",
   "nbconvert_exporter": "python",
   "pygments_lexer": "ipython3",
   "version": "3.7.2"
  }
 },
 "nbformat": 4,
 "nbformat_minor": 2
}
