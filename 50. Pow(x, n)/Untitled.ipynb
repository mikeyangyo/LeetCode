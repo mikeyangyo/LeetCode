{
 "cells": [
  {
   "cell_type": "code",
   "execution_count": 11,
   "metadata": {},
   "outputs": [],
   "source": [
    "class Solution:\n",
    "    def myPow(self, x, n):\n",
    "        return self.myPow_mySolution(x, n)\n",
    "    def myPow_mySolution(self, x, n):\n",
    "        neg = False if n > 0 else True\n",
    "        n = abs(n)\n",
    "        \n",
    "        result = float(1)\n",
    "        for i in range(31, -1, -1):\n",
    "            result *= result\n",
    "            if n & (1 << i): # catch the 1's in binary format of n\n",
    "                result *= x\n",
    "        \n",
    "        return 1 / result if neg else result\n",
    "    \n",
    "    # idea is use binary format to calculate\n",
    "    # example\n",
    "    # 5 ^ 10 = 5 ^ (1010)b\n",
    "    #        = 5 ^ (1 * (2 ^ 3) + 0 * (2 ^ 2) + 1 * (2 ^ 1) + 0 * (2 ^ 0))\n",
    "    #        = 5 ^ (1 * (2 ^ 3)) + 5 ^ (1 * (2 ^ 1))"
   ]
  }
 ],
 "metadata": {
  "kernelspec": {
   "display_name": "Python 3",
   "language": "python",
   "name": "python3"
  },
  "language_info": {
   "codemirror_mode": {
    "name": "ipython",
    "version": 3
   },
   "file_extension": ".py",
   "mimetype": "text/x-python",
   "name": "python",
   "nbconvert_exporter": "python",
   "pygments_lexer": "ipython3",
   "version": "3.6.5"
  }
 },
 "nbformat": 4,
 "nbformat_minor": 2
}
