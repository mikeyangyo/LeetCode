{
 "cells": [
  {
   "cell_type": "code",
   "execution_count": 65,
   "metadata": {},
   "outputs": [],
   "source": [
    "class Solution:\n",
    "    def generateParenthesis(self, n):\n",
    "        return self.generateParenthesis_mySolution(n)\n",
    "    \n",
    "    def generateParenthesis_mySolution(self, n):\n",
    "        allResult = []\n",
    "        result = []\n",
    "        self.findParenthesis(n, 0, 0, result, allResult)\n",
    "        return allResult\n",
    "\n",
    "    def findParenthesis(self, n, cntleft, cntright, result, allResult):\n",
    "        if(cntleft == n and cntright == n):\n",
    "            allResult.append(\"\".join(result))\n",
    "            return\n",
    "        \n",
    "        if(cntleft < n):\n",
    "            result.append('(')\n",
    "            self.findParenthesis(n, cntleft + 1, cntright, result, allResult)\n",
    "            result.pop()\n",
    "        \n",
    "        if(cntright < cntleft):\n",
    "            result.append(')')\n",
    "            self.findParenthesis(n, cntleft, cntright + 1, result, allResult)\n",
    "            result.pop()"
   ]
  }
 ],
 "metadata": {
  "kernelspec": {
   "display_name": "Python 3",
   "language": "python",
   "name": "python3"
  },
  "language_info": {
   "codemirror_mode": {
    "name": "ipython",
    "version": 3
   },
   "file_extension": ".py",
   "mimetype": "text/x-python",
   "name": "python",
   "nbconvert_exporter": "python",
   "pygments_lexer": "ipython3",
   "version": "3.6.5"
  }
 },
 "nbformat": 4,
 "nbformat_minor": 2
}
