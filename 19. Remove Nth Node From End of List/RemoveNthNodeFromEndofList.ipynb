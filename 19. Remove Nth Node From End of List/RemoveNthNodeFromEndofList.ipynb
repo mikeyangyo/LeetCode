{
 "cells": [
  {
   "cell_type": "code",
   "execution_count": 1,
   "metadata": {},
   "outputs": [],
   "source": [
    "class Solution:\n",
    "    def removeNthFromEnd(self, head, n):\n",
    "        return self.removeNthFromEnd_onePassSolutionOnLeetCode(head, n)\n",
    "        \n",
    "    def removeNthFromEnd_mySolution(self, head, n):\n",
    "        totalLen = 0\n",
    "        cur = head\n",
    "        while cur != None:\n",
    "            cur = cur.next\n",
    "            totalLen += 1\n",
    "            \n",
    "        if totalLen < n:\n",
    "            return head\n",
    "        elif totalLen == n:\n",
    "            return head.next\n",
    "        \n",
    "        step = totalLen - n\n",
    "        cur = head\n",
    "        \n",
    "        for i in range(step):\n",
    "            if i != step - 1:\n",
    "                cur = cur.next\n",
    "            else:\n",
    "                iterator = cur\n",
    "                for i in range(2):\n",
    "                    iterator = iterator.next\n",
    "                cur.next = iterator\n",
    "        return head\n",
    "    def removeNthFromEnd_onePassSolutionOnLeetCode(self, head, n):\n",
    "        dummy = ListNode(0)\n",
    "        dummy.next = head\n",
    "        first = dummy\n",
    "        second = dummy\n",
    "        \n",
    "        # Advances first pointer so that the gap between first and second is n nodes apart\n",
    "        for i in range(1, n + 2):\n",
    "            first = first.next\n",
    "            \n",
    "        # Move first to the end, maintaining the gap\n",
    "        while first != null:\n",
    "            first = first.next\n",
    "            second = second.next\n",
    "            \n",
    "        second.next = second.next.next\n",
    "        return dummy.next"
   ]
  }
 ],
 "metadata": {
  "kernelspec": {
   "display_name": "Python 3",
   "language": "python",
   "name": "python3"
  },
  "language_info": {
   "codemirror_mode": {
    "name": "ipython",
    "version": 3
   },
   "file_extension": ".py",
   "mimetype": "text/x-python",
   "name": "python",
   "nbconvert_exporter": "python",
   "pygments_lexer": "ipython3",
   "version": "3.6.5"
  }
 },
 "nbformat": 4,
 "nbformat_minor": 2
}
