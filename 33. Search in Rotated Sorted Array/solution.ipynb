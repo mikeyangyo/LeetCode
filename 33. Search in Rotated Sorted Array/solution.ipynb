{
 "cells": [
  {
   "cell_type": "code",
   "execution_count": 12,
   "metadata": {},
   "outputs": [],
   "source": [
    "class Solution:\n",
    "    def search(self, nums, target):\n",
    "        return self.search_mySolution(nums, target)\n",
    "    \n",
    "    def search_mySolution(self, nums, target):\n",
    "        if len(nums) == 0:\n",
    "            return -1\n",
    "        direction  = 0 # 1 = ascending, -1 = descending\n",
    "        if target > nums[0]:\n",
    "            direction = 1\n",
    "        elif target < nums[0]:\n",
    "            direction = -1\n",
    "        else:\n",
    "            return 0\n",
    "\n",
    "        if direction == -1:\n",
    "            for i in range(len(nums) - 1, -1, -1):\n",
    "                if nums[i] == target:\n",
    "                    return i\n",
    "                if nums[i - 1] > nums[i]:\n",
    "                    return -1\n",
    "        else:\n",
    "            for i in range(1, len(nums)):\n",
    "                if nums[i] == target:\n",
    "                    return i\n",
    "                if nums[i - 1] > nums[i]:\n",
    "                    return -1\n",
    "        return -1"
   ]
  }
 ],
 "metadata": {
  "kernelspec": {
   "display_name": "Python 3",
   "language": "python",
   "name": "python3"
  },
  "language_info": {
   "codemirror_mode": {
    "name": "ipython",
    "version": 3
   },
   "file_extension": ".py",
   "mimetype": "text/x-python",
   "name": "python",
   "nbconvert_exporter": "python",
   "pygments_lexer": "ipython3",
   "version": "3.6.5"
  }
 },
 "nbformat": 4,
 "nbformat_minor": 2
}
