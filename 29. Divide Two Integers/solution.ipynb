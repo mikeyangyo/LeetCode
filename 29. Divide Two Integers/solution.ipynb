{
 "cells": [
  {
   "cell_type": "code",
   "execution_count": 1,
   "metadata": {},
   "outputs": [],
   "source": [
    "class Solution:\n",
    "    def divide(self, dividend, divisor):\n",
    "        return self.divide_mySolution(dividend, divisor)\n",
    "    \n",
    "    def divide_solutionOnNetwork(self, dividend, divisor):\n",
    "        intMax = (1 << 31) - 1\n",
    "        intMin = 0 - (1 << 31)\n",
    "        if not divisor:\n",
    "            return  intMax if dividend >= 0 else intMin\n",
    "        if dividend == intMin and divisor == -1:\n",
    "            return intMax #overflow problem\n",
    "        \n",
    "        isNeg = False\n",
    "        if dividend < 0 and divisor > 0 or dividend > 0 and divisor < 0:\n",
    "            isNeg = True\n",
    "        \n",
    "        dvd = abs(dividend)\n",
    "        dvs = abs(divisor)\n",
    "        dvs_original = dvs\n",
    "        \n",
    "        i = 0\n",
    "        while (dvs << (i + 1)) <= dvd:\n",
    "            i += 1\n",
    "        \n",
    "        res = 0\n",
    "        while dvd >= dvs_original:\n",
    "            if dvd >= (dvs << i):\n",
    "                dvd -= (dvs << i)\n",
    "                res += (1 << i)\n",
    "            i -= 1\n",
    "        \n",
    "        return 0 - res if isNeg else res"
   ]
  }
 ],
 "metadata": {
  "kernelspec": {
   "display_name": "Python 3",
   "language": "python",
   "name": "python3"
  },
  "language_info": {
   "codemirror_mode": {
    "name": "ipython",
    "version": 3
   },
   "file_extension": ".py",
   "mimetype": "text/x-python",
   "name": "python",
   "nbconvert_exporter": "python",
   "pygments_lexer": "ipython3",
   "version": "3.6.5"
  }
 },
 "nbformat": 4,
 "nbformat_minor": 2
}
