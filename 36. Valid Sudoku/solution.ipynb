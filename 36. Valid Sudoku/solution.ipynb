{
 "cells": [
  {
   "cell_type": "code",
   "execution_count": 48,
   "metadata": {},
   "outputs": [],
   "source": [
    "class Solution:\n",
    "    def isValidSudoku(self, board):\n",
    "        return self.isValidSudoku_mySolution(board)\n",
    "    \n",
    "    def isValidSudoku_mySolution(self, board):\n",
    "        for i in range(len(board)):\n",
    "            row = [j for j in board[i] if j != '.']\n",
    "            if sorted(row) != sorted(list(set(row))):\n",
    "                return False\n",
    "            \n",
    "            col = [board[j][i] for j in range(len(board[i])) if board[j][i] != '.']\n",
    "            \n",
    "            if sorted(col) != sorted(list(set(col))):\n",
    "                return False\n",
    "            \n",
    "        for i in range(0,len(board), 3):\n",
    "            firstGrid = [board[k][j] for k in range(0, 3) for j in range(i, i + 3) if board[k][j] != '.']\n",
    "            if not self.checkGrid(firstGrid):\n",
    "                return False\n",
    "            secondGrid = [board[k][j] for k in range(3, 6) for j in range(i, i + 3) if board[k][j] != '.']\n",
    "            if not self.checkGrid(secondGrid):\n",
    "                return False\n",
    "            thirdGrid = [board[k][j] for k in range(6, 9) for j in range(i, i + 3) if board[k][j] != '.']\n",
    "            if not self.checkGrid(thirdGrid):\n",
    "                return False\n",
    "        return True\n",
    "    \n",
    "    def checkGrid(self, grid):\n",
    "        if sorted(grid) != sorted(list(set(grid))):\n",
    "            return False\n",
    "        return True"
   ]
  }
 ],
 "metadata": {
  "kernelspec": {
   "display_name": "Python 3",
   "language": "python",
   "name": "python3"
  },
  "language_info": {
   "codemirror_mode": {
    "name": "ipython",
    "version": 3
   },
   "file_extension": ".py",
   "mimetype": "text/x-python",
   "name": "python",
   "nbconvert_exporter": "python",
   "pygments_lexer": "ipython3",
   "version": "3.6.5"
  }
 },
 "nbformat": 4,
 "nbformat_minor": 2
}
