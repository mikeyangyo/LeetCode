{
 "cells": [
  {
   "cell_type": "code",
   "execution_count": 18,
   "metadata": {},
   "outputs": [],
   "source": [
    "class Solution:\n",
    "    def removeElement(self, nums, val):\n",
    "        return self.removeElement_mySolution(nums, val)\n",
    "    \n",
    "    def removeElement_mySolution(self, nums, val):\n",
    "        n = len(nums)\n",
    "        i = 0\n",
    "        while i < n:\n",
    "            if nums[i] == val:\n",
    "                nums.pop(i)\n",
    "                n -= 1\n",
    "            else:\n",
    "                i += 1\n",
    "        return n"
   ]
  }
 ],
 "metadata": {
  "kernelspec": {
   "display_name": "Python 3",
   "language": "python",
   "name": "python3"
  },
  "language_info": {
   "codemirror_mode": {
    "name": "ipython",
    "version": 3
   },
   "file_extension": ".py",
   "mimetype": "text/x-python",
   "name": "python",
   "nbconvert_exporter": "python",
   "pygments_lexer": "ipython3",
   "version": "3.6.5"
  }
 },
 "nbformat": 4,
 "nbformat_minor": 2
}
