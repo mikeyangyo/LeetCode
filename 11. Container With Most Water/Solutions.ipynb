{
 "cells": [
  {
   "cell_type": "code",
   "execution_count": 9,
   "metadata": {},
   "outputs": [],
   "source": [
    "class Solution:\n",
    "    def maxArea(self, height):\n",
    "        return self.maxArea_mySolution(height)\n",
    "    def maxArea_mySolution(self, height):\n",
    "        if len(height) == 2:\n",
    "            return min(height[0], height[1])\n",
    "        left, right, maximunArea = 0, len(height) - 1, 0\n",
    "        while left < right: # 0 2\n",
    "            currentArea = (right - left) * min(height[right], height[left]) # 2\n",
    "            maximunArea = max(maximunArea, currentArea)\n",
    "            if height[left] > height[right]:\n",
    "                right -= 1\n",
    "            elif height[left] < height[right]:\n",
    "                left += 1\n",
    "            else:\n",
    "                right -= 1\n",
    "                left += 1\n",
    "        return maximunArea"
   ]
  }
 ],
 "metadata": {
  "kernelspec": {
   "display_name": "Python 3",
   "language": "python",
   "name": "python3"
  },
  "language_info": {
   "codemirror_mode": {
    "name": "ipython",
    "version": 3
   },
   "file_extension": ".py",
   "mimetype": "text/x-python",
   "name": "python",
   "nbconvert_exporter": "python",
   "pygments_lexer": "ipython3",
   "version": "3.6.5"
  }
 },
 "nbformat": 4,
 "nbformat_minor": 2
}
