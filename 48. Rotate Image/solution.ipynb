{
 "cells": [
  {
   "cell_type": "code",
   "execution_count": 12,
   "metadata": {},
   "outputs": [],
   "source": [
    "class Solution:\n",
    "    def rotate(self, matrix):\n",
    "        return self.rotate_mySolution(matrix)\n",
    "    \n",
    "    def rotate_mySolution(self, matrix):\n",
    "        if len(matrix) > 1 and len(matrix) == len(matrix[0]):\n",
    "            self.rowReplacement(matrix)\n",
    "            self.transpose(matrix)\n",
    "    \n",
    "    def rowReplacement(self, matrix):\n",
    "        odd = False\n",
    "        if len(matrix) % 2 == 1:\n",
    "            odd = True\n",
    "        for i in range(int(len(matrix) / 2)):\n",
    "            if i != int(len(matrix) / 2) or i == int(len(matrix) / 2) and not odd:\n",
    "                matrix[i], matrix[len(matrix) - 1 - i] = matrix[len(matrix) - 1 - i], matrix[i]\n",
    "\n",
    "    def transpose(self, matrix):\n",
    "        for i in range(len(matrix)):\n",
    "            for j in range(i, len(matrix[i])):\n",
    "                if i != j:\n",
    "                    matrix[i][j], matrix[j][i] = matrix[j][i], matrix[i][j]"
   ]
  }
 ],
 "metadata": {
  "kernelspec": {
   "display_name": "Python 3",
   "language": "python",
   "name": "python3"
  },
  "language_info": {
   "codemirror_mode": {
    "name": "ipython",
    "version": 3
   },
   "file_extension": ".py",
   "mimetype": "text/x-python",
   "name": "python",
   "nbconvert_exporter": "python",
   "pygments_lexer": "ipython3",
   "version": "3.6.5"
  }
 },
 "nbformat": 4,
 "nbformat_minor": 2
}
