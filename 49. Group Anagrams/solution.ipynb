{
 "cells": [
  {
   "cell_type": "code",
   "execution_count": 53,
   "metadata": {},
   "outputs": [],
   "source": [
    "class Solution:\n",
    "    def groupAnagrams(self, strs):\n",
    "        return self.groupAnagrams_mySolution(strs)\n",
    "    \n",
    "    def groupAnagrams_mySolution(self, strs):\n",
    "        tmpDICT = {}\n",
    "        for i in strs:\n",
    "            sortedSTR = ''.join(sorted(i))\n",
    "            if sortedSTR not in tmpDICT.keys():\n",
    "                tmpDICT[sortedSTR] = [i]\n",
    "            else:\n",
    "                tmpDICT[sortedSTR].append(i)\n",
    "        return [tmpDICT[i] for i in tmpDICT.keys()]"
   ]
  }
 ],
 "metadata": {
  "kernelspec": {
   "display_name": "Python 3",
   "language": "python",
   "name": "python3"
  },
  "language_info": {
   "codemirror_mode": {
    "name": "ipython",
    "version": 3
   },
   "file_extension": ".py",
   "mimetype": "text/x-python",
   "name": "python",
   "nbconvert_exporter": "python",
   "pygments_lexer": "ipython3",
   "version": "3.6.5"
  }
 },
 "nbformat": 4,
 "nbformat_minor": 2
}
