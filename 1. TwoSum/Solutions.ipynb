{
 "cells": [
  {
   "cell_type": "code",
   "execution_count": 1,
   "metadata": {},
   "outputs": [],
   "source": [
    "class Solution:\n",
    "    def __init__(self):\n",
    "        return\n",
    "    \n",
    "    def twoSum(self, nums, target):\n",
    "        return self.twoSum_twoPassTable(nums, target)\n",
    "        \n",
    "    def twoSum_mysolution(self, nums, target):\n",
    "        if(type(nums) != list):\n",
    "            print(\"Error: %s should be %s\", \"nums\", type(nums))\n",
    "            return\n",
    "        if(type(target) != int):\n",
    "            print(\"Error: %s should be %s\", \"target\", type(target))\n",
    "            return\n",
    "        realNumsIndex = [i for i in range(len(nums))]\n",
    "        if (len(realNumsIndex) < 2):\n",
    "            return []\n",
    "        elif (len(realNumsIndex) == 2):\n",
    "            return realNumsIndex if (nums[realNumsIndex[0]] + nums[realNumsIndex[1]] == target) else []\n",
    "        else:\n",
    "            for i in range(len(realNumsIndex)):\n",
    "                for j in range(i + 1, len(realNumsIndex)):\n",
    "                    if(nums[i] + nums[j] == target):\n",
    "                        return [i, j]\n",
    "    \n",
    "    def twoSum_onePassTable(self, nums, target):\n",
    "        hashTable = {}\n",
    "        for i in range(len(nums)):\n",
    "            if(str(target - nums[i]) in hashTable.keys() and hashTable[str(target - nums[i])] != i):\n",
    "                return [i, hashTable[str(target - nums[i])]]\n",
    "            hashTable[str(nums[i])] = i\n",
    "    \n",
    "    def twoSum_twoPassTable(self, nums, target):\n",
    "        hashTable = {}\n",
    "        for i in range(len(nums)):\n",
    "            hashTable[str(nums[i])] = i\n",
    "        for i in range(len(nums)):\n",
    "            if(str(target - nums[i]) in hashTable.keys() and hashTable[str(target - nums[i])] != i):\n",
    "                return [i, hashTable[str(target - nums[i])]]"
   ]
  }
 ],
 "metadata": {
  "kernelspec": {
   "display_name": "Python 3",
   "language": "python",
   "name": "python3"
  },
  "language_info": {
   "codemirror_mode": {
    "name": "ipython",
    "version": 3
   },
   "file_extension": ".py",
   "mimetype": "text/x-python",
   "name": "python",
   "nbconvert_exporter": "python",
   "pygments_lexer": "ipython3",
   "version": "3.6.5"
  }
 },
 "nbformat": 4,
 "nbformat_minor": 2
}
