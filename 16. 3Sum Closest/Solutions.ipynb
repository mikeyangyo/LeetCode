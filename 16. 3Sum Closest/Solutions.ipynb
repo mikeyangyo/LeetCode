{
 "cells": [
  {
   "cell_type": "code",
   "execution_count": 78,
   "metadata": {},
   "outputs": [],
   "source": [
    "class Solution:\n",
    "    def __init__(self):\n",
    "        pass\n",
    "    \n",
    "    def threeSumClosest(self, nums, target):\n",
    "        return self.threeSumClosest_mySolution(nums, target)\n",
    "    \n",
    "    def threeSumClosest_mySolution(self, nums, target):\n",
    "        if len(nums) < 3:\n",
    "            return 2 ** 31\n",
    "        \n",
    "        nums = sorted(nums)\n",
    "        \n",
    "        minDiff = 2 ** 31;\n",
    "        \n",
    "        for i in range(len(nums)-2): # iterate from first element to last two element ([0:3]~[-3:])\n",
    "            left, right = i + 1, len(nums) - 1 # set pointer move from head and tail\n",
    "            while left < right:\n",
    "                nowDiff = nums[i] + nums[left] + nums[right] - target # find now difference between sum of now series and target\n",
    "                if abs(nowDiff) < abs(minDiff): # if now difference is less than before, update it\n",
    "                    minDiff = nowDiff\n",
    "                if nowDiff == 0: # find the solution to satisfy target <- always be the solution\n",
    "                    break\n",
    "                elif nowDiff < 0: # difference is too small( namely absolute value is too larger), so left need to plus 1(because the series soted)\n",
    "                    left += 1\n",
    "                else: # difference is too large( namely absolute value is too small), so right need to minus 1(because the series soted)\n",
    "                    right -= 1\n",
    "        \n",
    "        return target + minDiff"
   ]
  }
 ],
 "metadata": {
  "kernelspec": {
   "display_name": "Python 3",
   "language": "python",
   "name": "python3"
  },
  "language_info": {
   "codemirror_mode": {
    "name": "ipython",
    "version": 3
   },
   "file_extension": ".py",
   "mimetype": "text/x-python",
   "name": "python",
   "nbconvert_exporter": "python",
   "pygments_lexer": "ipython3",
   "version": "3.6.5"
  }
 },
 "nbformat": 4,
 "nbformat_minor": 2
}
