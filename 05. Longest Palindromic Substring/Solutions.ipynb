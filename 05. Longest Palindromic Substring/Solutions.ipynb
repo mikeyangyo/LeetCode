{
 "cells": [
  {
   "cell_type": "code",
   "execution_count": null,
   "metadata": {},
   "outputs": [],
   "source": [
    "class Solution:\n",
    "    def longestPalindrome(self, s):\n",
    "        if len(s) == 0:\n",
    "            return \"\"\n",
    "        if len(s) == 1:\n",
    "            return s\n",
    "        \n",
    "        n = len(s)\n",
    "        startFrom = 1\n",
    "        strLen = 1\n",
    "        table = [[1 if i == j else 0 for i in range(n)] for j in range(n)] # create a n by n identity matrix\n",
    "        \n",
    "        for length in range(2, n + 1):\n",
    "            for leftBound in range(n - length + 1):\n",
    "                rightBound = leftBound + length - 1\n",
    "\n",
    "                if length == 2:\n",
    "                    if s[leftBound] == s[rightBound]:\n",
    "                        table[leftBound][rightBound] = 1\n",
    "                        startFrom = leftBound\n",
    "                        strLen = length\n",
    "                else:\n",
    "                    if s[leftBound] == s[rightBound] and table[leftBound + 1][rightBound - 1]:\n",
    "                        table[leftBound][rightBound] = 1\n",
    "                        startFrom = leftBound\n",
    "                        strLen = length\n",
    "        \n",
    "        return s[startFrom:startFrom + strLen]"
   ]
  }
 ],
 "metadata": {
  "kernelspec": {
   "display_name": "Python 3",
   "language": "python",
   "name": "python3"
  },
  "language_info": {
   "codemirror_mode": {
    "name": "ipython",
    "version": 3
   },
   "file_extension": ".py",
   "mimetype": "text/x-python",
   "name": "python",
   "nbconvert_exporter": "python",
   "pygments_lexer": "ipython3",
   "version": "3.6.5"
  }
 },
 "nbformat": 4,
 "nbformat_minor": 2
}
