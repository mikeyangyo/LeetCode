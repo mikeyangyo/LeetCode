{
 "cells": [
  {
   "cell_type": "code",
   "execution_count": 23,
   "metadata": {},
   "outputs": [],
   "source": [
    "class Solution:\n",
    "    def removeDuplicates(self, nums):\n",
    "        return self.removeDuplicates_mySolution(nums)\n",
    "    \n",
    "    def removeDuplicates_mySolution(self, nums):\n",
    "        if len(nums) == 0:\n",
    "            return 0\n",
    "        first, cur, end = 0, 1, len(nums) - 1\n",
    "        while first < end:\n",
    "            while cur <= end:\n",
    "                if nums[first] == nums[cur]:\n",
    "                    nums.pop(cur)\n",
    "                    end -= 1\n",
    "                else:\n",
    "                    first = cur\n",
    "                    cur += 1\n",
    "                    break\n",
    "        return len(nums)"
   ]
  }
 ],
 "metadata": {
  "kernelspec": {
   "display_name": "Python 3",
   "language": "python",
   "name": "python3"
  },
  "language_info": {
   "codemirror_mode": {
    "name": "ipython",
    "version": 3
   },
   "file_extension": ".py",
   "mimetype": "text/x-python",
   "name": "python",
   "nbconvert_exporter": "python",
   "pygments_lexer": "ipython3",
   "version": "3.6.5"
  }
 },
 "nbformat": 4,
 "nbformat_minor": 2
}
