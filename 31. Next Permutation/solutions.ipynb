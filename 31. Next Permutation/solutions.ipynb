{
 "cells": [
  {
   "cell_type": "code",
   "execution_count": 18,
   "metadata": {},
   "outputs": [],
   "source": [
    "class Solution:\n",
    "    def nextPermutation(self, nums):\n",
    "        return self.nextPermutation_mySolution(nums)\n",
    "    \n",
    "    def nextPermutation_mySolution(self, nums):\n",
    "        if len(nums) < 2:\n",
    "            return\n",
    "        n = len(nums)\n",
    "        i = n - 2\n",
    "        while i >= 0 and nums[i] >= nums[i + 1]:\n",
    "            i -= 1\n",
    "        \n",
    "        if i < 0:\n",
    "            nums.sort()\n",
    "            return\n",
    "        \n",
    "        j = i + 1\n",
    "        while j < n and nums[j] > nums[i]:\n",
    "            j += 1\n",
    "        j -= 1\n",
    "        \n",
    "        nums[i], nums[j] = nums[j], nums[i]\n",
    "        nums[i + 1:len(nums)] = sorted(nums[i + 1:len(nums)])"
   ]
  }
 ],
 "metadata": {
  "kernelspec": {
   "display_name": "Python 3",
   "language": "python",
   "name": "python3"
  },
  "language_info": {
   "codemirror_mode": {
    "name": "ipython",
    "version": 3
   },
   "file_extension": ".py",
   "mimetype": "text/x-python",
   "name": "python",
   "nbconvert_exporter": "python",
   "pygments_lexer": "ipython3",
   "version": "3.6.5"
  }
 },
 "nbformat": 4,
 "nbformat_minor": 2
}
