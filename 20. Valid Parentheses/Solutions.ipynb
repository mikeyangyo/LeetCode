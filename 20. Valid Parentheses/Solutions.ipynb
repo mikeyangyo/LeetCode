{
 "cells": [
  {
   "cell_type": "code",
   "execution_count": 11,
   "metadata": {},
   "outputs": [],
   "source": [
    "class Solution:\n",
    "    def isValid(self, s):\n",
    "        return self.isValid_mySolution(s)\n",
    "    \n",
    "    def isValid_mySolution(self, s):\n",
    "        if len(s) == 0:\n",
    "            return True\n",
    "        if len(s) % 2 == 1 or s[0] == ')' or s[0] == ']' or s[0] == '}':\n",
    "            return False\n",
    "        stk = []\n",
    "        for c in s:\n",
    "            stk.append(c)\n",
    "            if stk[-1] is ')':\n",
    "                if stk[-2] is '(':\n",
    "                    stk.pop()\n",
    "                    stk.pop()\n",
    "                else:\n",
    "                    return False\n",
    "            elif stk[-1] is ']':\n",
    "                if stk[-2] is '[':\n",
    "                    stk.pop()\n",
    "                    stk.pop()\n",
    "                else:\n",
    "                    return False\n",
    "            elif stk[-1] is '}':\n",
    "                if stk[-2] is '{':\n",
    "                    stk.pop()\n",
    "                    stk.pop()\n",
    "                else:\n",
    "                    return False\n",
    "        if len(stk) != 0:\n",
    "            return False\n",
    "        return True"
   ]
  }
 ],
 "metadata": {
  "kernelspec": {
   "display_name": "Python 3",
   "language": "python",
   "name": "python3"
  },
  "language_info": {
   "codemirror_mode": {
    "name": "ipython",
    "version": 3
   },
   "file_extension": ".py",
   "mimetype": "text/x-python",
   "name": "python",
   "nbconvert_exporter": "python",
   "pygments_lexer": "ipython3",
   "version": "3.6.5"
  }
 },
 "nbformat": 4,
 "nbformat_minor": 2
}
