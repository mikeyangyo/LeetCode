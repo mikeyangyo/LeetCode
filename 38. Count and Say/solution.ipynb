{
 "cells": [
  {
   "cell_type": "code",
   "execution_count": 2,
   "metadata": {},
   "outputs": [],
   "source": [
    "class Solution:\n",
    "    def countAndSay(self, n):\n",
    "        return self.countAndSay_mySolution('1', n - 1)\n",
    "    \n",
    "    def countAndSay_mySolution(self, string, n):\n",
    "        if n == 0:\n",
    "            return string\n",
    "        \n",
    "        result = ''\n",
    "        cnt = 1\n",
    "        for i in range(1, len(string)):\n",
    "            if string[i - 1] != string[i]:\n",
    "                result += str(cnt) + string[i - 1]\n",
    "                cnt = 1\n",
    "            else:\n",
    "                cnt += 1\n",
    "        if cnt != 0:\n",
    "            result += str(cnt) + string[len(string) - 1]\n",
    "        else:\n",
    "            result += '1' + string[len(string) - 1]\n",
    "        return self.countAndSay_mySolution(result, n - 1)"
   ]
  }
 ],
 "metadata": {
  "kernelspec": {
   "display_name": "Python 3",
   "language": "python",
   "name": "python3"
  },
  "language_info": {
   "codemirror_mode": {
    "name": "ipython",
    "version": 3
   },
   "file_extension": ".py",
   "mimetype": "text/x-python",
   "name": "python",
   "nbconvert_exporter": "python",
   "pygments_lexer": "ipython3",
   "version": "3.6.5"
  }
 },
 "nbformat": 4,
 "nbformat_minor": 2
}
