{
 "cells": [
  {
   "cell_type": "code",
   "execution_count": 1,
   "metadata": {},
   "outputs": [],
   "source": [
    "class Solution:\n",
    "    def mergeKLists(self, lists):\n",
    "        return self.mergeKLists_mySolution(lists)\n",
    "    \n",
    "    def mergeKLists_mySolution(self, lists):        \n",
    "        if len(lists) == 1:\n",
    "            return lists[0]\n",
    "        \n",
    "        dummy = ListNode(0)\n",
    "        cur = dummy\n",
    "        result = []\n",
    "        \n",
    "        for i in lists:\n",
    "            while i != None:\n",
    "                result.append(i.val)\n",
    "                i = i.next\n",
    "        \n",
    "        result = sorted(result)\n",
    "        \n",
    "        for i in result:\n",
    "            temp = ListNode(i)\n",
    "            cur.next = temp\n",
    "            cur = cur.next\n",
    "        \n",
    "        return dummy.next"
   ]
  }
 ],
 "metadata": {
  "kernelspec": {
   "display_name": "Python 3",
   "language": "python",
   "name": "python3"
  },
  "language_info": {
   "codemirror_mode": {
    "name": "ipython",
    "version": 3
   },
   "file_extension": ".py",
   "mimetype": "text/x-python",
   "name": "python",
   "nbconvert_exporter": "python",
   "pygments_lexer": "ipython3",
   "version": "3.6.5"
  }
 },
 "nbformat": 4,
 "nbformat_minor": 2
}
