{
 "cells": [
  {
   "cell_type": "code",
   "execution_count": 1,
   "metadata": {},
   "outputs": [],
   "source": [
    "class Solution:\n",
    "    def romanToInt(self, s):\n",
    "        result = 0\n",
    "        if len(s) is 1:\n",
    "            return int(roman_number[s[0]])\n",
    "        i = 0\n",
    "        while i < len(s) - 1:\n",
    "            first = s[i]\n",
    "            second = s[i + 1]\n",
    "            if int(roman_number[s[i]]) >= int(roman_number[s[i + 1]]):\n",
    "                result += int(roman_number[s[i]])\n",
    "            else:\n",
    "                result += int(roman_number[s[i + 1]]) - int(roman_number[s[i]])\n",
    "                i += 1\n",
    "            i += 1\n",
    "            if i is len(s) - 1:\n",
    "                result += int(roman_number[s[i]])\n",
    "        return result"
   ]
  },
  {
   "cell_type": "code",
   "execution_count": 2,
   "metadata": {},
   "outputs": [],
   "source": [
    "roman_number = {\n",
    "    \"V\" : \"5\",\n",
    "    \"L\" : \"50\",\n",
    "    \"D\" : \"500\",\n",
    "    \"I\": \"1\",\n",
    "    \"X\" : \"10\",\n",
    "    \"C\" : \"100\",\n",
    "    \"M\" : \"1000\"\n",
    "}"
   ]
  }
 ],
 "metadata": {
  "kernelspec": {
   "display_name": "Python 3",
   "language": "python",
   "name": "python3"
  },
  "language_info": {
   "codemirror_mode": {
    "name": "ipython",
    "version": 3
   },
   "file_extension": ".py",
   "mimetype": "text/x-python",
   "name": "python",
   "nbconvert_exporter": "python",
   "pygments_lexer": "ipython3",
   "version": "3.6.5"
  }
 },
 "nbformat": 4,
 "nbformat_minor": 2
}
