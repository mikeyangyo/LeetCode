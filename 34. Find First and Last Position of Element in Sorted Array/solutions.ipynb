{
 "cells": [
  {
   "cell_type": "code",
   "execution_count": 8,
   "metadata": {},
   "outputs": [],
   "source": [
    "class Solution:\n",
    "    def searchRange(self, nums, target):\n",
    "        return self.searchRange_mySolution(nums, target)\n",
    "    \n",
    "    def searchRange_mySolution(self, nums, target):\n",
    "        result = []\n",
    "        for i in range(len(nums)):\n",
    "            if nums[i] == target:\n",
    "                result.append(i)\n",
    "        if len(result) == 0:\n",
    "            return [-1, -1]\n",
    "        return [result[0]] + [result[-1]]"
   ]
  }
 ],
 "metadata": {
  "kernelspec": {
   "display_name": "Python 3",
   "language": "python",
   "name": "python3"
  },
  "language_info": {
   "codemirror_mode": {
    "name": "ipython",
    "version": 3
   },
   "file_extension": ".py",
   "mimetype": "text/x-python",
   "name": "python",
   "nbconvert_exporter": "python",
   "pygments_lexer": "ipython3",
   "version": "3.6.5"
  }
 },
 "nbformat": 4,
 "nbformat_minor": 2
}
