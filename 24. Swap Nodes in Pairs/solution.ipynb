{
 "cells": [
  {
   "cell_type": "code",
   "execution_count": 31,
   "metadata": {},
   "outputs": [],
   "source": [
    "class Solution:\n",
    "    def swapPairs(self, head):\n",
    "        dummy = ListNode(0)\n",
    "        dummy.next = head\n",
    "        curHead = dummy\n",
    "        curTail = self.move(curHead, 2)\n",
    "        if curTail == None:\n",
    "            return dummy.next\n",
    "        curHead.next.next = curTail.next\n",
    "        curTail.next = curHead.next\n",
    "        curHead.next = curTail\n",
    "        \n",
    "        while curTail.next != None:\n",
    "            curHead = curTail.next\n",
    "            curTail = self.move(curHead, 2)\n",
    "            if curTail == None:\n",
    "                return dummy.next\n",
    "            curHead.next.next = curTail.next\n",
    "            curTail.next = curHead.next\n",
    "            curHead.next = curTail\n",
    "        \n",
    "        return dummy.next\n",
    "    def move(self, head, steps):\n",
    "        cur = head\n",
    "        for i in range(steps):\n",
    "            if cur == None:\n",
    "                return None\n",
    "            cur = cur.next\n",
    "        return cur"
   ]
  }
 ],
 "metadata": {
  "kernelspec": {
   "display_name": "Python 3",
   "language": "python",
   "name": "python3"
  },
  "language_info": {
   "codemirror_mode": {
    "name": "ipython",
    "version": 3
   },
   "file_extension": ".py",
   "mimetype": "text/x-python",
   "name": "python",
   "nbconvert_exporter": "python",
   "pygments_lexer": "ipython3",
   "version": "3.6.5"
  }
 },
 "nbformat": 4,
 "nbformat_minor": 2
}
